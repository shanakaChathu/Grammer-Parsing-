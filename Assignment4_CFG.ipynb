{
 "cells": [
  {
   "cell_type": "code",
   "execution_count": 1,
   "metadata": {},
   "outputs": [
    {
     "name": "stdout",
     "output_type": "stream",
     "text": [
      "Requirement already satisfied: nltk in c:\\users\\shanaka_105298\\appdata\\local\\continuum\\anaconda3\\lib\\site-packages (3.4.5)\n",
      "Requirement already satisfied: six in c:\\users\\shanaka_105298\\appdata\\local\\continuum\\anaconda3\\lib\\site-packages (from nltk) (1.12.0)\n"
     ]
    },
    {
     "name": "stderr",
     "output_type": "stream",
     "text": [
      "[nltk_data] Downloading package punkt to\n",
      "[nltk_data]     C:\\Users\\Shanaka_105298\\AppData\\Roaming\\nltk_data...\n",
      "[nltk_data]   Package punkt is already up-to-date!\n",
      "[nltk_data] Downloading package averaged_perceptron_tagger to\n",
      "[nltk_data]     C:\\Users\\Shanaka_105298\\AppData\\Roaming\\nltk_data...\n",
      "[nltk_data]   Package averaged_perceptron_tagger is already up-to-\n",
      "[nltk_data]       date!\n",
      "[nltk_data] Downloading package treebank to\n",
      "[nltk_data]     C:\\Users\\Shanaka_105298\\AppData\\Roaming\\nltk_data...\n",
      "[nltk_data]   Package treebank is already up-to-date!\n"
     ]
    }
   ],
   "source": [
    "import pandas as pd \n",
    "import numpy as np \n",
    "import string\n",
    "!pip install nltk\n",
    "import nltk\n",
    "nltk.download('punkt')\n",
    "nltk.download('averaged_perceptron_tagger')\n",
    "nltk.download('treebank')\n",
    "from nltk.tag import UnigramTagger\n",
    "from nltk.corpus import treebank"
   ]
  },
  {
   "cell_type": "code",
   "execution_count": 47,
   "metadata": {},
   "outputs": [],
   "source": [
    "grammarNew = nltk.CFG.fromstring(\"\"\"\n",
    "S -> Aux NP VP\n",
    "S -> NP VP\n",
    "S -> VP \n",
    "VP -> Verb | Verb NP | Verb NP NP\n",
    "NP -> Det Nominal | Nominal | Proper-Noun | Pronoun\n",
    "Nominal -> Noun | Noun Nominal | Proper-Noun | Nominal \n",
    "Verb -> 'book'\n",
    "Noun -> 'flight' | 'book' | 'flights'\n",
    "Proper-Noun -> 'TWA'\n",
    "Det -> 'that' \n",
    "Pronoun -> 'you' \n",
    "Aux -> 'can' \n",
    "\"\"\")"
   ]
  },
  {
   "cell_type": "code",
   "execution_count": null,
   "metadata": {},
   "outputs": [],
   "source": [
    "#Book that flight"
   ]
  },
  {
   "cell_type": "code",
   "execution_count": 48,
   "metadata": {},
   "outputs": [
    {
     "name": "stdout",
     "output_type": "stream",
     "text": [
      "(S (VP (Verb book) (NP (Det that) (Nominal (Noun flight)))))\n",
      "(S\n",
      "  (VP (Verb book) (NP (Det that) (Nominal (Nominal (Noun flight))))))\n"
     ]
    }
   ],
   "source": [
    "#Basics \n",
    "sent = ['book','that','flight']\n",
    "td_parser = nltk.ChartParser(grammarNew)\n",
    "for tree in td_parser.parse(sent):\n",
    "    print(tree)"
   ]
  },
  {
   "cell_type": "code",
   "execution_count": 49,
   "metadata": {},
   "outputs": [
    {
     "name": "stdout",
     "output_type": "stream",
     "text": [
      "(S (VP (Verb book) (NP (Det that) (Nominal (Noun flight)))))\n",
      "(S\n",
      "  (VP (Verb book) (NP (Det that) (Nominal (Nominal (Noun flight))))))\n"
     ]
    }
   ],
   "source": [
    "#Top down parser \n",
    "sent = ['book','that','flight']\n",
    "td_parser = nltk.ChartParser(grammarNew)\n",
    "for tree in td_parser.parse(sent):\n",
    "    print(tree)"
   ]
  },
  {
   "cell_type": "code",
   "execution_count": 50,
   "metadata": {},
   "outputs": [
    {
     "name": "stdout",
     "output_type": "stream",
     "text": [
      "Warning: NP -> Nominal will never be used\n",
      "Warning: NP -> Proper-Noun will never be used\n",
      "Warning: Verb -> 'book' will never be used\n",
      "Parsing 'book that flight'\n",
      "    [ * book that flight]\n",
      "  S [ 'book' * that flight]\n",
      "  R [ Verb * that flight]\n",
      "  R [ VP * that flight]\n",
      "  R [ S * that flight]\n",
      "  S [ S 'that' * flight]\n",
      "  R [ S Det * flight]\n",
      "  S [ S Det 'flight' * ]\n",
      "  R [ S Det Noun * ]\n",
      "  R [ S Det Nominal * ]\n",
      "  R [ S NP * ]\n"
     ]
    }
   ],
   "source": [
    "#Bottom-Up parser \n",
    "bu_parser = nltk.ShiftReduceParser(grammarNew,trace=2)\n",
    "sent = ['book','that','flight']\n",
    "for tree in bu_parser.parse(sent):\n",
    "    print(tree)"
   ]
  },
  {
   "cell_type": "code",
   "execution_count": 51,
   "metadata": {},
   "outputs": [
    {
     "name": "stdout",
     "output_type": "stream",
     "text": [
      "(S (VP (Verb book) (NP (Det that) (Nominal (Noun flight)))))\n",
      "(S\n",
      "  (VP (Verb book) (NP (Det that) (Nominal (Nominal (Noun flight))))))\n"
     ]
    }
   ],
   "source": [
    "#Top down bottom-up parser \n",
    "sent = ['book','that','flight']\n",
    "tdbu_parser=nltk.LeftCornerChartParser(grammarNew)\n",
    "for tree in tdbu_parser.parse(sent):\n",
    "    print(tree)"
   ]
  },
  {
   "cell_type": "code",
   "execution_count": 12,
   "metadata": {},
   "outputs": [],
   "source": [
    "#Can you book TWA flights "
   ]
  },
  {
   "cell_type": "code",
   "execution_count": 52,
   "metadata": {},
   "outputs": [
    {
     "name": "stdout",
     "output_type": "stream",
     "text": [
      "(S\n",
      "  (Aux can)\n",
      "  (NP (Pronoun you))\n",
      "  (VP\n",
      "    (Verb book)\n",
      "    (NP (Nominal (Proper-Noun TWA)))\n",
      "    (NP (Nominal (Noun flights)))))\n",
      "(S\n",
      "  (Aux can)\n",
      "  (NP (Pronoun you))\n",
      "  (VP\n",
      "    (Verb book)\n",
      "    (NP (Nominal (Proper-Noun TWA)))\n",
      "    (NP (Nominal (Nominal (Noun flights))))))\n",
      "(S\n",
      "  (Aux can)\n",
      "  (NP (Pronoun you))\n",
      "  (VP\n",
      "    (Verb book)\n",
      "    (NP (Nominal (Nominal (Proper-Noun TWA))))\n",
      "    (NP (Nominal (Noun flights)))))\n",
      "(S\n",
      "  (Aux can)\n",
      "  (NP (Pronoun you))\n",
      "  (VP\n",
      "    (Verb book)\n",
      "    (NP (Nominal (Nominal (Proper-Noun TWA))))\n",
      "    (NP (Nominal (Nominal (Noun flights))))))\n",
      "(S\n",
      "  (Aux can)\n",
      "  (NP (Pronoun you))\n",
      "  (VP\n",
      "    (Verb book)\n",
      "    (NP (Proper-Noun TWA))\n",
      "    (NP (Nominal (Noun flights)))))\n",
      "(S\n",
      "  (Aux can)\n",
      "  (NP (Pronoun you))\n",
      "  (VP\n",
      "    (Verb book)\n",
      "    (NP (Proper-Noun TWA))\n",
      "    (NP (Nominal (Nominal (Noun flights))))))\n"
     ]
    }
   ],
   "source": [
    "#Basic features \n",
    "sent = ['can', 'you', 'book', 'TWA','flights']\n",
    "basic_parser = nltk.ChartParser(grammarNew)\n",
    "for tree in basic_parser.parse(sent):\n",
    "    print(tree)"
   ]
  },
  {
   "cell_type": "code",
   "execution_count": 53,
   "metadata": {},
   "outputs": [
    {
     "name": "stdout",
     "output_type": "stream",
     "text": [
      "(S\n",
      "  (Aux can)\n",
      "  (NP (Pronoun you))\n",
      "  (VP (Verb book) (NP (Proper-Noun TWA)) (NP (Nom (Noun flights)))))\n"
     ]
    }
   ],
   "source": [
    "#Top down parser \n",
    "\n",
    "td_parser = nltk.RecursiveDescentParser(grammarNew)\n",
    "sent = ['can', 'you', 'book', 'TWA','flights']\n",
    "td_parser = nltk.ChartParser(grammar1)\n",
    "for tree in td_parser.parse(sent):\n",
    "    print(tree)"
   ]
  },
  {
   "cell_type": "code",
   "execution_count": 54,
   "metadata": {},
   "outputs": [
    {
     "name": "stdout",
     "output_type": "stream",
     "text": [
      "Warning: VP -> Verb NP NP will never be used\n",
      "Warning: VP -> Verb NP NP will never be used\n",
      "Warning: Verb -> 'book' will never be used\n",
      "Parsing 'can you book TWA flights'\n",
      "    [ * can you book TWA flights]\n",
      "  S [ 'can' * you book TWA flights]\n",
      "  R [ Aux * you book TWA flights]\n",
      "  S [ Aux 'you' * book TWA flights]\n",
      "  R [ Aux Pronoun * book TWA flights]\n",
      "  R [ Aux NP * book TWA flights]\n",
      "  S [ Aux NP 'book' * TWA flights]\n",
      "  R [ Aux NP Verb * TWA flights]\n",
      "  R [ Aux NP VP * TWA flights]\n",
      "  R [ Aux S * TWA flights]\n",
      "  S [ Aux S 'TWA' * flights]\n",
      "  R [ Aux S Proper-Noun * flights]\n",
      "  R [ Aux S NP * flights]\n",
      "  S [ Aux S NP 'flights' * ]\n",
      "  R [ Aux S NP Noun * ]\n",
      "  R [ Aux S NP Nom * ]\n",
      "  R [ Aux S NP NP * ]\n"
     ]
    }
   ],
   "source": [
    "#Bottom-Up parser \n",
    "\n",
    "bu_parser = nltk.ShiftReduceParser(grammar1,trace=2)\n",
    "sent = ['can', 'you', 'book', 'TWA','flights']\n",
    "for tree in bu_parser.parse(sent):\n",
    "    print(tree)"
   ]
  },
  {
   "cell_type": "code",
   "execution_count": 55,
   "metadata": {},
   "outputs": [
    {
     "name": "stdout",
     "output_type": "stream",
     "text": [
      "(S\n",
      "  (Aux can)\n",
      "  (NP (Pronoun you))\n",
      "  (VP\n",
      "    (Verb book)\n",
      "    (NP (Nominal (Proper-Noun TWA)))\n",
      "    (NP (Nominal (Noun flights)))))\n",
      "(S\n",
      "  (Aux can)\n",
      "  (NP (Pronoun you))\n",
      "  (VP\n",
      "    (Verb book)\n",
      "    (NP (Nominal (Proper-Noun TWA)))\n",
      "    (NP (Nominal (Nominal (Noun flights))))))\n",
      "(S\n",
      "  (Aux can)\n",
      "  (NP (Pronoun you))\n",
      "  (VP\n",
      "    (Verb book)\n",
      "    (NP (Nominal (Nominal (Proper-Noun TWA))))\n",
      "    (NP (Nominal (Noun flights)))))\n",
      "(S\n",
      "  (Aux can)\n",
      "  (NP (Pronoun you))\n",
      "  (VP\n",
      "    (Verb book)\n",
      "    (NP (Nominal (Nominal (Proper-Noun TWA))))\n",
      "    (NP (Nominal (Nominal (Noun flights))))))\n",
      "(S\n",
      "  (Aux can)\n",
      "  (NP (Pronoun you))\n",
      "  (VP\n",
      "    (Verb book)\n",
      "    (NP (Proper-Noun TWA))\n",
      "    (NP (Nominal (Noun flights)))))\n",
      "(S\n",
      "  (Aux can)\n",
      "  (NP (Pronoun you))\n",
      "  (VP\n",
      "    (Verb book)\n",
      "    (NP (Proper-Noun TWA))\n",
      "    (NP (Nominal (Nominal (Noun flights))))))\n"
     ]
    }
   ],
   "source": [
    "#Top down bottom up parser \n",
    "tdbu_parser=nltk.LeftCornerChartParser(grammarNew)\n",
    "sent = ['can', 'you', 'book', 'TWA','flights']\n",
    "for tree in tdbu_parser.parse(sent):\n",
    "    print(tree)"
   ]
  }
 ],
 "metadata": {
  "kernelspec": {
   "display_name": "Python 3",
   "language": "python",
   "name": "python3"
  },
  "language_info": {
   "codemirror_mode": {
    "name": "ipython",
    "version": 3
   },
   "file_extension": ".py",
   "mimetype": "text/x-python",
   "name": "python",
   "nbconvert_exporter": "python",
   "pygments_lexer": "ipython3",
   "version": "3.7.4"
  }
 },
 "nbformat": 4,
 "nbformat_minor": 2
}
